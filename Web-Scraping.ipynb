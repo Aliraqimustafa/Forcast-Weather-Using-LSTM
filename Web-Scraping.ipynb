{
 "cells": [
  {
   "cell_type": "code",
   "execution_count": 125,
   "id": "01694f57",
   "metadata": {},
   "outputs": [],
   "source": [
    "import requests\n",
    "from bs4 import BeautifulSoup\n",
    "\n",
    "\n",
    "def scraping(table):\n",
    "    assert table != None\n",
    "    data = []\n",
    "    for row in table.find_all('tr'):\n",
    "        columns = row.find_all('td')\n",
    "        if len(columns) >= 7:\n",
    "            time = columns[0].text.strip()\n",
    "            temperature = columns[1].text.strip()\n",
    "            dew_point = columns[2].text.strip()\n",
    "            humidity = columns[3].text.strip()\n",
    "            wind_speed = columns[4].text.strip()\n",
    "            pressure = columns[5].text.strip()\n",
    "            precipitation = columns[6].text.strip()\n",
    "\n",
    "            # Create a tuple for each day's observations and add it to the data list\n",
    "            daily_observation = (time, temperature, dew_point, humidity, wind_speed, pressure, precipitation)\n",
    "            data.append(daily_observation)\n",
    "    return data\n",
    "\n",
    "\n",
    "\n",
    "def find_table(url):\n",
    "    response = requests.get(url)\n",
    "    if response.status_code == 200:\n",
    "        soup = BeautifulSoup(response.text, 'html.parser')\n",
    "        table = soup.find('table', class_='tb7')\n",
    "        return table\n",
    "    else :\n",
    "        print(\"Failed to retrieve the webpage\")"
   ]
  },
  {
   "cell_type": "code",
   "execution_count": 126,
   "id": "60799414",
   "metadata": {},
   "outputs": [],
   "source": [
    "import calendar\n",
    "\n",
    "months = list(calendar.month_name)[1:]\n",
    "years = [ '2015', '2016' , '2017' , '2018'  , '2019' ,'2020' ]\n",
    "\n",
    "\n",
    "URL = 'https://tcktcktck.org/dhi-qar/{month}-{year}'\n",
    "URLs = []\n",
    "for year in years:\n",
    "    for month in months:\n",
    "        _ = URL.format(month = month , year= year)\n",
    "        URLs.append( _ )"
   ]
  },
  {
   "cell_type": "code",
   "execution_count": 127,
   "id": "bad4dc16",
   "metadata": {},
   "outputs": [
    {
     "data": {
      "text/plain": [
       "72"
      ]
     },
     "execution_count": 127,
     "metadata": {},
     "output_type": "execute_result"
    }
   ],
   "source": [
    "len(URLs)"
   ]
  },
  {
   "cell_type": "code",
   "execution_count": 165,
   "id": "03360eb8",
   "metadata": {},
   "outputs": [],
   "source": [
    "import pandas as pd\n",
    "import numpy as np\n",
    "\n",
    "def split(text):\n",
    "    text = text\n",
    "    text = text.split()\n",
    "    return float(text[0])\n",
    "\n",
    "def data_frame(data):\n",
    "    df = pd.DataFrame(data[1:] )\n",
    "    df2 = pd.DataFrame([] , columns = ['date' , 'C','Kph' , 'Hg'])\n",
    "    df2['date'] = df[0]\n",
    "    df2['C'] = df[1].apply(split)\n",
    "    df2['Kph'] = df[4].apply(split)\n",
    "    df2['Hg'] = df[5].apply(split)\n",
    "    return df2"
   ]
  },
  {
   "cell_type": "code",
   "execution_count": 174,
   "id": "3fe59b89",
   "metadata": {
    "scrolled": true
   },
   "outputs": [
    {
     "name": "stdout",
     "output_type": "stream",
     "text": [
      "0\n",
      "1\n",
      "2\n",
      "3\n",
      "4\n",
      "5\n",
      "6\n",
      "7\n",
      "8\n",
      "9\n",
      "10\n",
      "11\n",
      "12\n",
      "13\n",
      "14\n",
      "15\n",
      "16\n",
      "17\n",
      "18\n",
      "19\n",
      "20\n",
      "21\n",
      "22\n",
      "23\n",
      "24\n",
      "25\n",
      "26\n",
      "27\n",
      "28\n",
      "29\n",
      "30\n",
      "31\n",
      "32\n",
      "33\n",
      "34\n",
      "35\n",
      "36\n",
      "37\n",
      "38\n",
      "39\n",
      "40\n",
      "41\n",
      "42\n",
      "43\n",
      "44\n",
      "45\n",
      "46\n",
      "47\n",
      "48\n",
      "49\n",
      "50\n",
      "51\n",
      "52\n",
      "53\n",
      "54\n",
      "55\n",
      "56\n",
      "57\n",
      "58\n",
      "59\n",
      "60\n",
      "61\n",
      "62\n",
      "63\n",
      "64\n",
      "65\n",
      "66\n",
      "67\n",
      "68\n",
      "69\n",
      "70\n",
      "71\n"
     ]
    }
   ],
   "source": [
    "def collect():\n",
    "    for i,url in enumerate(URLs):\n",
    "        tabel = find_table(url)\n",
    "        data = scraping(tabel)\n",
    "        df = data_frame(data)\n",
    "        df.to_csv(f'Dhi_Qar-{i}-.csv', index=False)\n",
    "        print(i)\n",
    "collect()"
   ]
  },
  {
   "cell_type": "code",
   "execution_count": 177,
   "id": "3aea0db7",
   "metadata": {},
   "outputs": [],
   "source": [
    "files = [f'Dhi_Qar-{i}-.csv' for i in range(72)]\n",
    "\n",
    "def combine_csv():\n",
    "    df1 = pd.read_csv(files[0])\n",
    "\n",
    "    for file in files[1:]:\n",
    "        df2 = pd.read_csv(file)\n",
    "        df1 = pd.concat([df1, df2], axis=0)\n",
    "    return df1"
   ]
  },
  {
   "cell_type": "code",
   "execution_count": 185,
   "id": "f0eb5349",
   "metadata": {},
   "outputs": [],
   "source": [
    "df = combine_csv()\n",
    "df.to_csv(f'Dhi_Qar-Temp.csv', index=False)"
   ]
  },
  {
   "cell_type": "code",
   "execution_count": 186,
   "id": "21547500",
   "metadata": {},
   "outputs": [],
   "source": [
    "df = pd.read_csv('Dhi_Qar-Temp.csv')"
   ]
  },
  {
   "cell_type": "code",
   "execution_count": 187,
   "id": "5dbee502",
   "metadata": {},
   "outputs": [
    {
     "data": {
      "text/html": [
       "<div>\n",
       "<style scoped>\n",
       "    .dataframe tbody tr th:only-of-type {\n",
       "        vertical-align: middle;\n",
       "    }\n",
       "\n",
       "    .dataframe tbody tr th {\n",
       "        vertical-align: top;\n",
       "    }\n",
       "\n",
       "    .dataframe thead th {\n",
       "        text-align: right;\n",
       "    }\n",
       "</style>\n",
       "<table border=\"1\" class=\"dataframe\">\n",
       "  <thead>\n",
       "    <tr style=\"text-align: right;\">\n",
       "      <th></th>\n",
       "      <th>date</th>\n",
       "      <th>C</th>\n",
       "      <th>Kph</th>\n",
       "      <th>Hg</th>\n",
       "    </tr>\n",
       "  </thead>\n",
       "  <tbody>\n",
       "    <tr>\n",
       "      <th>0</th>\n",
       "      <td>2015-01-01</td>\n",
       "      <td>16.0</td>\n",
       "      <td>8.0</td>\n",
       "      <td>30.15</td>\n",
       "    </tr>\n",
       "    <tr>\n",
       "      <th>1</th>\n",
       "      <td>2015-01-02</td>\n",
       "      <td>18.0</td>\n",
       "      <td>11.0</td>\n",
       "      <td>30.09</td>\n",
       "    </tr>\n",
       "    <tr>\n",
       "      <th>2</th>\n",
       "      <td>2015-01-03</td>\n",
       "      <td>18.0</td>\n",
       "      <td>7.0</td>\n",
       "      <td>30.06</td>\n",
       "    </tr>\n",
       "    <tr>\n",
       "      <th>3</th>\n",
       "      <td>2015-01-04</td>\n",
       "      <td>17.0</td>\n",
       "      <td>12.0</td>\n",
       "      <td>30.00</td>\n",
       "    </tr>\n",
       "    <tr>\n",
       "      <th>4</th>\n",
       "      <td>2015-01-05</td>\n",
       "      <td>16.0</td>\n",
       "      <td>11.0</td>\n",
       "      <td>30.09</td>\n",
       "    </tr>\n",
       "  </tbody>\n",
       "</table>\n",
       "</div>"
      ],
      "text/plain": [
       "         date     C   Kph     Hg\n",
       "0  2015-01-01  16.0   8.0  30.15\n",
       "1  2015-01-02  18.0  11.0  30.09\n",
       "2  2015-01-03  18.0   7.0  30.06\n",
       "3  2015-01-04  17.0  12.0  30.00\n",
       "4  2015-01-05  16.0  11.0  30.09"
      ]
     },
     "execution_count": 187,
     "metadata": {},
     "output_type": "execute_result"
    }
   ],
   "source": [
    "df.head()"
   ]
  },
  {
   "cell_type": "code",
   "execution_count": 188,
   "id": "415f04f8",
   "metadata": {},
   "outputs": [
    {
     "data": {
      "text/plain": [
       "(2192, 4)"
      ]
     },
     "execution_count": 188,
     "metadata": {},
     "output_type": "execute_result"
    }
   ],
   "source": [
    "df.shape"
   ]
  },
  {
   "cell_type": "code",
   "execution_count": 189,
   "id": "b0926b8a",
   "metadata": {},
   "outputs": [
    {
     "data": {
      "text/plain": [
       "date    0\n",
       "C       0\n",
       "Kph     0\n",
       "Hg      0\n",
       "dtype: int64"
      ]
     },
     "execution_count": 189,
     "metadata": {},
     "output_type": "execute_result"
    }
   ],
   "source": [
    "df.isnull().sum()"
   ]
  },
  {
   "cell_type": "code",
   "execution_count": null,
   "id": "b18dc4fe",
   "metadata": {},
   "outputs": [],
   "source": []
  },
  {
   "cell_type": "code",
   "execution_count": null,
   "id": "80fcb18a",
   "metadata": {},
   "outputs": [],
   "source": []
  },
  {
   "cell_type": "code",
   "execution_count": null,
   "id": "8f49117d",
   "metadata": {},
   "outputs": [],
   "source": []
  }
 ],
 "metadata": {
  "kernelspec": {
   "display_name": "Python 3 (ipykernel)",
   "language": "python",
   "name": "python3"
  },
  "language_info": {
   "codemirror_mode": {
    "name": "ipython",
    "version": 3
   },
   "file_extension": ".py",
   "mimetype": "text/x-python",
   "name": "python",
   "nbconvert_exporter": "python",
   "pygments_lexer": "ipython3",
   "version": "3.9.13"
  }
 },
 "nbformat": 4,
 "nbformat_minor": 5
}
